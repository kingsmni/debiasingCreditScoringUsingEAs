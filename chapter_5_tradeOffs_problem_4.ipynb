{
 "cells": [
  {
   "cell_type": "code",
   "execution_count": 1,
   "metadata": {},
   "outputs": [],
   "source": [
    "import numpy as np\n",
    "import random\n",
    "from platypus import Hypervolume, display, calculate, CMAES, MOEAD, NSGAII, NSGAIII, SPEA2, IBEA, Problem, Real\n",
    "from copy import deepcopy\n",
    "import matplotlib.pyplot as plt\n",
    "from sklearn.model_selection import train_test_split\n",
    "import pandas as pd\n",
    "\n",
    "from datetime import datetime"
   ]
  },
  {
   "cell_type": "code",
   "execution_count": 2,
   "metadata": {},
   "outputs": [],
   "source": [
    "from load_data import *\n",
    "from bias_functions import *\n",
    "from utility_functions import *"
   ]
  },
  {
   "cell_type": "code",
   "execution_count": 3,
   "metadata": {},
   "outputs": [],
   "source": [
    "# new problems\n",
    "\n",
    "# problem 4: age, bank\n",
    "# objectives: accuracy, DI, EO, DM(OMR)\n",
    "\n",
    "def problem4_base(w,X,y,sensitiveAttributeIndex):\n",
    "    errorRateObjective = errorRate(w,X,y)\n",
    "    fairnessObjective1 = differenceDisparateImpactModel(w,X,sensitiveAttributeIndex=sensitiveAttributeIndex)\n",
    "    fairnessObjective2 = differenceEqualOpportunity(w,X,y,sensitiveAttributeIndex=sensitiveAttributeIndex)\n",
    "    fairnessObjective3 = differenceDisparateMistreatment(w,X,y,sensitiveAttributeIndex=sensitiveAttributeIndex,type='OMR')\n",
    "    return errorRateObjective, np.abs(fairnessObjective1[0]-fairnessObjective1[1]),\\\n",
    "np.abs(fairnessObjective2[0]-fairnessObjective2[1]), np.abs(fairnessObjective3[0]-fairnessObjective3[1])\n",
    "\n",
    "def problem4_train(w):\n",
    "    return problem4_base(w,trainxs,trainys,sensitiveAttributeIndex=0)\n",
    "def problem4_test(w):\n",
    "    return problem4_base(w,testxs,testys,sensitiveAttributeIndex=0)"
   ]
  },
  {
   "cell_type": "code",
   "execution_count": 4,
   "metadata": {},
   "outputs": [],
   "source": [
    "trainAlgorithmToLoad = '20210817_1055_problem4_train_bank_CMAES_algo.npy'\n",
    "testAlgorithmToLoad = '20210817_1055_problem4_test_bank_CMAES_algo.npy'\n",
    "\n",
    "bestTrainAlgorithm = np.load(\"saved_algorithms/\"+trainAlgorithmToLoad, allow_pickle=True).item()\n",
    "bestTestAlgorithm = np.load(\"saved_algorithms/\"+testAlgorithmToLoad, allow_pickle=True).item()"
   ]
  },
  {
   "cell_type": "code",
   "execution_count": 5,
   "metadata": {},
   "outputs": [
    {
     "data": {
      "text/plain": [
       "1452"
      ]
     },
     "execution_count": 5,
     "metadata": {},
     "output_type": "execute_result"
    }
   ],
   "source": [
    "len(bestTrainAlgorithm.result)"
   ]
  },
  {
   "cell_type": "code",
   "execution_count": 6,
   "metadata": {},
   "outputs": [
    {
     "data": {
      "text/plain": [
       "array([[9.54172989e-02, 1.61308571e-06, 1.78468384e-06, 1.28240314e-05],\n",
       "       [6.13808801e-01, 2.41697846e-01, 2.85415564e-01, 1.79112319e-01],\n",
       "       [1.67295134e-01, 6.06534803e-02, 1.03103945e-01, 9.81975051e-02]])"
      ]
     },
     "execution_count": 6,
     "metadata": {},
     "output_type": "execute_result"
    }
   ],
   "source": [
    "resultsMinMax(bestTrainAlgorithm)[:3]"
   ]
  },
  {
   "cell_type": "code",
   "execution_count": 14,
   "metadata": {},
   "outputs": [
    {
     "data": {
      "text/plain": [
       "<matplotlib.legend.Legend at 0x7fee9e3b3d50>"
      ]
     },
     "execution_count": 14,
     "metadata": {},
     "output_type": "execute_result"
    }
   ],
   "source": [
    "# 3-D chart subject to filter\n",
    "\n",
    "%matplotlib qt\n",
    "# %matplotlib inline\n",
    "\n",
    "import matplotlib.pyplot as plt\n",
    "from mpl_toolkits.mplot3d import Axes3D\n",
    "\n",
    "now = datetime.now()\n",
    "\n",
    "axisToFilter = 0\n",
    "filterMarkers = [0,0.15,0.2,0.25,1]\n",
    "\n",
    "resultsDict = {}\n",
    "resultsToUse = np.array([s.objectives[axisToFilter] for s in bestTrainAlgorithm.result])\n",
    "labelNames = []\n",
    "\n",
    "for i in range(len(filterMarkers)-1):\n",
    "    resultsDict[i] = (resultsToUse>filterMarkers[i]) * (resultsToUse<=filterMarkers[i+1])\n",
    "    if filterMarkers[i] == 0:\n",
    "        labelName = '{:,.0%} < acc'.format(1-filterMarkers[i+1])\n",
    "    elif filterMarkers[i+1] == 1:\n",
    "        labelName = 'acc < {:,.0%}'.format(1-filterMarkers[i])\n",
    "    else:\n",
    "        labelName = '{:,.0%} < acc < {:,.0%}'.format(1-filterMarkers[i+1],1-filterMarkers[i])\n",
    "    labelNames.append(labelName)\n",
    "\n",
    "fig = plt.figure(dpi=200)\n",
    "ax = fig.add_subplot(111, projection='3d')\n",
    "\n",
    "for i in range(len(filterMarkers)-1):\n",
    "    ax.scatter(np.array([s.objectives[1] for s in bestTrainAlgorithm.result])[resultsDict[i]],\n",
    "           np.array([s.objectives[2] for s in bestTrainAlgorithm.result])[resultsDict[i]],\n",
    "           np.array([s.objectives[3] for s in bestTrainAlgorithm.result])[resultsDict[i]],s=1)\n",
    "\n",
    "ax.set_xlabel(\"Disparate Impact\",labelpad=10,size=6)\n",
    "ax.set_ylabel(\"Equal Opportunity\",labelpad=10,size=6)\n",
    "ax.set_zlabel(\"Disparate Mistreatment (OMR)\",labelpad=10,size=6)\n",
    "ax.tick_params(axis='x', labelsize=6)\n",
    "ax.tick_params(axis='y', labelsize=6)\n",
    "ax.tick_params(axis='z', labelsize=6)\n",
    "ax.set_xlim([0,0.25])\n",
    "ax.set_ylim([0,0.3])\n",
    "ax.set_zlim([0,0.2])\n",
    "ax.view_init(elev=15, azim=-105)\n",
    "ax.legend(labelNames,fontsize=5) \n",
    "\n",
    "# plt.savefig(\"saved_graphs/\"+now.strftime(\"%Y%m%d_%H%M\")+\"_\"+dataset+\"_\"+str(bestTrainAlgorithm)[21:-26]+\"_axis\"+str(axisToFilter)+\"_overall\",bbox_inches = 'tight')"
   ]
  },
  {
   "cell_type": "code",
   "execution_count": null,
   "metadata": {},
   "outputs": [],
   "source": [
    "# 3-D chart subject to filter\n",
    "\n",
    "%matplotlib qt\n",
    "# %matplotlib inline\n",
    "\n",
    "import matplotlib.pyplot as plt\n",
    "from mpl_toolkits.mplot3d import Axes3D\n",
    "\n",
    "now = datetime.now()\n",
    "\n",
    "axisToFilter = 1\n",
    "filterMarkers = [0,0.05,0.1,0.15,1]\n",
    "\n",
    "resultsDict = {}\n",
    "resultsToUse = np.array([s.objectives[axisToFilter] for s in bestTrainAlgorithm.result])\n",
    "labelNames = []\n",
    "\n",
    "for i in range(len(filterMarkers)-1):\n",
    "    resultsDict[i] = (resultsToUse>=filterMarkers[i]) * (resultsToUse<filterMarkers[i+1])\n",
    "    if filterMarkers[i] == 0:\n",
    "        labelName = 'DI < {:,.2f}'.format(filterMarkers[i+1])\n",
    "    elif filterMarkers[i+1] == 1:\n",
    "        labelName = '{:,.2f} < DI'.format(filterMarkers[i])\n",
    "    else:\n",
    "        labelName = '{:,.2f} < DI < {:,.2f}'.format(filterMarkers[i],filterMarkers[i+1])\n",
    "    labelNames.append(labelName)\n",
    "\n",
    "fig = plt.figure(dpi=200)\n",
    "ax = fig.add_subplot(111, projection='3d')\n",
    "\n",
    "for i in range(len(filterMarkers)-1):\n",
    "    ax.scatter(np.array([s.objectives[0] for s in bestTrainAlgorithm.result])[resultsDict[i]],\n",
    "           np.array([s.objectives[2] for s in bestTrainAlgorithm.result])[resultsDict[i]],\n",
    "           np.array([s.objectives[3] for s in bestTrainAlgorithm.result])[resultsDict[i]],s=1)\n",
    "\n",
    "ax.set_xlabel(\"Error Rate\",labelpad=10,size=6)\n",
    "ax.set_ylabel(\"Equal Opportunity\",labelpad=10,size=6)\n",
    "ax.set_zlabel(\"Disparate Mistreatment (OMR)\",labelpad=10,size=6)\n",
    "ax.tick_params(axis='x', labelsize=6)\n",
    "ax.tick_params(axis='y', labelsize=6)\n",
    "ax.tick_params(axis='z', labelsize=6)\n",
    "ax.set_xlim([0,0.65])\n",
    "ax.set_ylim([0,0.3])\n",
    "ax.set_zlim([0,0.2])\n",
    "ax.view_init(elev=15, azim=-125)\n",
    "ax.legend(labelNames,fontsize=5) \n",
    "\n",
    "# plt.savefig(\"saved_graphs/\"+now.strftime(\"%Y%m%d_%H%M\")+\"_\"+dataset+\"_\"+str(bestTrainAlgorithm)[21:-26]+\"_axis\"+str(axisToFilter)+\"_overall\",bbox_inches = 'tight')"
   ]
  },
  {
   "cell_type": "code",
   "execution_count": 13,
   "metadata": {},
   "outputs": [
    {
     "data": {
      "text/plain": [
       "<matplotlib.legend.Legend at 0x7fee9e199090>"
      ]
     },
     "execution_count": 13,
     "metadata": {},
     "output_type": "execute_result"
    }
   ],
   "source": [
    "# 3-D chart subject to filter\n",
    "\n",
    "%matplotlib qt\n",
    "# %matplotlib inline\n",
    "\n",
    "import matplotlib.pyplot as plt\n",
    "from mpl_toolkits.mplot3d import Axes3D\n",
    "\n",
    "now = datetime.now()\n",
    "\n",
    "axisToFilter = 2\n",
    "filterMarkers = [0,0.1,0.2,1]\n",
    "\n",
    "resultsDict = {}\n",
    "resultsToUse = np.array([s.objectives[axisToFilter] for s in bestTrainAlgorithm.result])\n",
    "labelNames = []\n",
    "\n",
    "for i in range(len(filterMarkers)-1):\n",
    "    resultsDict[i] = (resultsToUse>=filterMarkers[i]) * (resultsToUse<filterMarkers[i+1])\n",
    "    if filterMarkers[i] == 0:\n",
    "        labelName = 'EO < {:,.2f}'.format(filterMarkers[i+1])\n",
    "    elif filterMarkers[i+1] == 1:\n",
    "        labelName = '{:,.2f} < EO'.format(filterMarkers[i])\n",
    "    else:\n",
    "        labelName = '{:,.2f} < EO < {:,.2f}'.format(filterMarkers[i],filterMarkers[i+1])\n",
    "    labelNames.append(labelName)\n",
    "\n",
    "fig = plt.figure(dpi=200)\n",
    "ax = fig.add_subplot(111, projection='3d')\n",
    "\n",
    "for i in range(len(filterMarkers)-1):\n",
    "    ax.scatter(np.array([s.objectives[0] for s in bestTrainAlgorithm.result])[resultsDict[i]],\n",
    "           np.array([s.objectives[1] for s in bestTrainAlgorithm.result])[resultsDict[i]],\n",
    "           np.array([s.objectives[3] for s in bestTrainAlgorithm.result])[resultsDict[i]],s=1)\n",
    "\n",
    "ax.set_xlabel(\"Error Rate\",labelpad=10,size=6)\n",
    "ax.set_ylabel(\"Disparate Impact\",labelpad=10,size=6)\n",
    "ax.set_zlabel(\"Disparate Mistreatment (OMR)\",labelpad=10,size=6)\n",
    "ax.tick_params(axis='x', labelsize=5)\n",
    "ax.tick_params(axis='y', labelsize=5)\n",
    "ax.tick_params(axis='z', labelsize=5)\n",
    "ax.set_xlim([0,0.4])\n",
    "ax.set_ylim([0,0.2])\n",
    "ax.set_zlim([0,0.2])\n",
    "ax.view_init(elev=15, azim=-125)\n",
    "ax.legend(labelNames,fontsize=5) \n",
    "\n",
    "# plt.savefig(\"saved_graphs/\"+now.strftime(\"%Y%m%d_%H%M\")+\"_\"+dataset+\"_\"+str(bestTrainAlgorithm)[21:-26]+\"_axis\"+str(axisToFilter)+\"_overall\",bbox_inches = 'tight')"
   ]
  },
  {
   "cell_type": "code",
   "execution_count": 15,
   "metadata": {},
   "outputs": [
    {
     "data": {
      "text/plain": [
       "<matplotlib.legend.Legend at 0x7fee9e447e10>"
      ]
     },
     "execution_count": 15,
     "metadata": {},
     "output_type": "execute_result"
    }
   ],
   "source": [
    "# 3-D chart subject to filter\n",
    "\n",
    "%matplotlib qt\n",
    "# %matplotlib inline\n",
    "\n",
    "import matplotlib.pyplot as plt\n",
    "from mpl_toolkits.mplot3d import Axes3D\n",
    "\n",
    "now = datetime.now()\n",
    "\n",
    "axisToFilter = 3\n",
    "filterMarkers = [0,0.05,0.1,0.15,1]\n",
    "\n",
    "resultsDict = {}\n",
    "resultsToUse = np.array([s.objectives[axisToFilter] for s in bestTrainAlgorithm.result])\n",
    "labelNames = []\n",
    "\n",
    "for i in range(len(filterMarkers)-1):\n",
    "    resultsDict[i] = (resultsToUse>=filterMarkers[i]) * (resultsToUse<filterMarkers[i+1])\n",
    "    if filterMarkers[i] == 0:\n",
    "        labelName = 'DM (OMR) < {:,.2f}'.format(filterMarkers[i+1])\n",
    "    elif filterMarkers[i+1] == 1:\n",
    "        labelName = '{:,.2f} < DM (OMR)'.format(filterMarkers[i])\n",
    "    else:\n",
    "        labelName = '{:,.2f} < DM (OMR) < {:,.2f}'.format(filterMarkers[i],filterMarkers[i+1])\n",
    "    labelNames.append(labelName)\n",
    "\n",
    "fig = plt.figure(dpi=200)\n",
    "ax = fig.add_subplot(111, projection='3d')\n",
    "\n",
    "for i in range(len(filterMarkers)-1):\n",
    "    ax.scatter(np.array([s.objectives[0] for s in bestTrainAlgorithm.result])[resultsDict[i]],\n",
    "           np.array([s.objectives[1] for s in bestTrainAlgorithm.result])[resultsDict[i]],\n",
    "           np.array([s.objectives[2] for s in bestTrainAlgorithm.result])[resultsDict[i]],s=1)\n",
    "\n",
    "ax.set_xlabel(\"Error Rate\",labelpad=10,size=6)\n",
    "ax.set_ylabel(\"Disparate Impact\",labelpad=10,size=6)\n",
    "ax.set_zlabel(\"Equal Opportunity\",labelpad=10,size=6)\n",
    "ax.tick_params(axis='x', labelsize=6)\n",
    "ax.tick_params(axis='y', labelsize=6)\n",
    "ax.tick_params(axis='z', labelsize=6)\n",
    "ax.set_xlim([0,0.4])\n",
    "ax.set_ylim([0,0.2])\n",
    "ax.set_zlim([0,0.3])\n",
    "ax.view_init(elev=15, azim=-125)\n",
    "ax.legend(labelNames,fontsize=5) \n",
    "\n",
    "# plt.savefig(\"saved_graphs/\"+now.strftime(\"%Y%m%d_%H%M\")+\"_\"+dataset+\"_\"+str(bestTrainAlgorithm)[21:-26]+\"_axis\"+str(axisToFilter)+\"_overall\",bbox_inches = 'tight')"
   ]
  }
 ],
 "metadata": {
  "kernelspec": {
   "display_name": "Python 3",
   "language": "python",
   "name": "python3"
  },
  "language_info": {
   "codemirror_mode": {
    "name": "ipython",
    "version": 3
   },
   "file_extension": ".py",
   "mimetype": "text/x-python",
   "name": "python",
   "nbconvert_exporter": "python",
   "pygments_lexer": "ipython3",
   "version": "3.7.4"
  }
 },
 "nbformat": 4,
 "nbformat_minor": 4
}
